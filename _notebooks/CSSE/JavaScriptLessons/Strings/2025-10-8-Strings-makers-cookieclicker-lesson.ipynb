{
 "cells": [
  {
   "cell_type": "raw",
   "id": "099c4a8b",
   "metadata": {
    "vscode": {
     "languageId": "raw"
    }
   },
   "source": [
    "---\n",
    "layout: base\n",
    "title: Makers - Strings JS Lesson\n",
    "description: Strings lesson (Cookie Clicker)\n",
    "permalink: /Javascript/strings-lesson\n",
    "categories: [Javascript, Strings]\n",
    "author: Makers\n",
    "---"
   ]
  },
  {
   "cell_type": "raw",
   "id": "ce16db93",
   "metadata": {
    "vscode": {
     "languageId": "raw"
    }
   },
   "source": [
    "#Javascript Strings\n",
    "##What are strings?\n",
    "Strings are a data type used to represent text and store them within quotes. They are sequences of characters enclosed in single quotes (' '), double quotes (\" \"), or backticks (` `). Strings can contain letters, numbers, symbols, and spaces."
   ]
  },
  {
   "cell_type": "markdown",
   "id": "0c59f06a",
   "metadata": {},
   "source": [
    "#Examples:"
   ]
  },
  {
   "cell_type": "code",
   "execution_count": null,
   "id": "7ce3119d",
   "metadata": {
    "vscode": {
     "languageId": "javascript"
    }
   },
   "outputs": [],
   "source": [
    "let carName = \"Toyota\";\n",
    "let carModel = \"Corolla\";\n",
    "let carYear = 2016;"
   ]
  },
  {
   "cell_type": "markdown",
   "id": "2749af54",
   "metadata": {},
   "source": [
    "Strings can work with single, double, and backquotes, there is no difference.\n",
    "Strings are meant to be stored in variables. \"Let\" and \"const\" are common variables that store strings.\n",
    "Strings can also include quotes inside quotes."
   ]
  },
  {
   "cell_type": "code",
   "execution_count": null,
   "id": "e17a552f",
   "metadata": {
    "vscode": {
     "languageId": "javascript"
    }
   },
   "outputs": [],
   "source": [
    "let carModel = \"Corolla\";\n",
    "let carModel2 = 'Prius';\n",
    "let carModel3 = '\"Rav4\"';\n",
    "const carModel4 = `Highlander`;"
   ]
  },
  {
   "cell_type": "markdown",
   "id": "4fe50b99",
   "metadata": {},
   "source": [
    "Strings in the Cookie Clicker Game are existent everywhere."
   ]
  },
  {
   "cell_type": "code",
   "execution_count": null,
   "id": "bf4753aa",
   "metadata": {
    "vscode": {
     "languageId": "javascript"
    }
   },
   "outputs": [],
   "source": [
    "const grandma = {\n",
    "  name: \"Grandma\",\n",
    "  emoji: \"👵\",\n",
    "  price: 69,\n",
    "  priceIncrementer: 1.5,\n",
    "  cookiesPerSecond: 1,\n",
    "};\n",
    "\n",
    "const chef = {\n",
    "  name: \"Chef\",\n",
    "  emoji: \"👨‍🍳\",\n",
    "  price: 200,\n",
    "  priceIncrementer: 1.4,\n",
    "  cookiesPerSecond: 2,\n",
    "};\n",
    "\n",
    "const kitchen = {\n",
    "  name: \"Kitchen\",\n",
    "  emoji: \"🔪\",\n",
    "  price: 400,\n",
    "  priceIncrementer: 1.4,\n",
    "  cookiesPerSecond: 4,\n",
    "};\n",
    "\n",
    "const shopButton = document.createElement(\"button\");\n",
    "        shopButton.className = `bg-slate-500 hover:bg-slate-600 text-white px-4 py-2 mb-2`;\n",
    "        shopButton.innerHTML = `${forSaleItemInfo.emoji} ${forSaleItemInfo.name} (${forSaleItemInfo.price} 🍪)`;"
   ]
  },
  {
   "cell_type": "raw",
   "id": "299dc2dc",
   "metadata": {
    "vscode": {
     "languageId": "raw"
    }
   },
   "source": [
    "In this example, there are *eight* examples of strings: \"Grandma\", \"Chef\", and \"Kitchen\". All three examples are under the variable: \"const\".\n",
    "The other *three* examples, \"👵\", \"👨‍🍳\", and \"🔪\", are examples of strings as emojis. \n",
    "The final *two* examples of strings use the backtick quotes: \n",
    "`bg-slate-500 hover:bg-slate-600 text-white px-4 py-2 mb-2`\n",
    "and\n",
    "`${forSaleItemInfo.emoji} ${forSaleItemInfo.name} (${forSaleItemInfo.price} 🍪)`\n",
    "that store data of the const: shopButton."
   ]
  }
 ],
 "metadata": {
  "language_info": {
   "name": "python"
  }
 },
 "nbformat": 4,
 "nbformat_minor": 5
}
