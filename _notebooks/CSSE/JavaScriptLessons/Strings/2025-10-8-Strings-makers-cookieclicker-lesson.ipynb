{
 "cells": [
  {
   "cell_type": "raw",
   "id": "099c4a8b",
   "metadata": {
    "vscode": {
     "languageId": "raw"
    }
   },
   "source": [
    "---\n",
    "layout: post\n",
    "title: Makers - Strings JS Lesson\n",
    "description: Strings lesson (Cookie Clicker)\n",
    "permalink: /Javascript/strings-lesson\n",
    "categories: [Javascript, Strings]\n",
    "author: Makers\n",
    "---"
   ]
  },
  {
   "cell_type": "markdown",
   "id": "ce16db93",
   "metadata": {
    "vscode": {
     "languageId": "raw"
    }
   },
   "source": [
    "# Javascript Strings\n",
    "## What are strings?\n",
    "Strings are a data type used to represent text and store them within quotes. They are sequences of characters enclosed in single quotes (' '), double quotes (\" \"), or backticks (` `). Strings can contain letters, numbers, symbols, and spaces."
   ]
  },
  {
   "cell_type": "markdown",
   "id": "0c59f06a",
   "metadata": {},
   "source": [
    "# Examples:"
   ]
  },
  {
   "cell_type": "code",
   "execution_count": null,
   "id": "7ce3119d",
   "metadata": {
    "vscode": {
     "languageId": "javascript"
    }
   },
   "outputs": [],
   "source": [
    "let carName = \"Toyota\";\n",
    "let carModel = 'Corolla';\n",
    "const Grandma = `Grandma`;"
   ]
  },
  {
   "cell_type": "markdown",
   "id": "2749af54",
   "metadata": {},
   "source": [
    "# Strings and Quotes\n",
    "Strings can work with both single and double quotes, there is no difference.\n",
    "Strings are meant to be stored in variables. \"Let\" and \"const\" are common variables that store strings.\n",
    "Strings can also include quotes inside quotes."
   ]
  },
  {
   "cell_type": "code",
   "execution_count": null,
   "id": "e17a552f",
   "metadata": {
    "vscode": {
     "languageId": "javascript"
    }
   },
   "outputs": [],
   "source": [
    "let carModel = \"Corolla\";\n",
    "let carModel2 = 'Prius';\n",
    "let carModel3 = '\"Rav4\"';"
   ]
  },
  {
   "cell_type": "markdown",
   "id": "4fe50b99",
   "metadata": {},
   "source": [
    "# Strings and Template Literals"
   ]
  },
  {
   "cell_type": "markdown",
   "id": "0c876db9",
   "metadata": {},
   "source": [
    "What are template literals?\n",
    "- Template literals are enclosed by backticks (``)\n",
    "- Template literals and strings have three different functions:\n",
    "    - 1. Can create multi-line strings\n",
    "    - 2. String interpolation\n",
    "    - 3. Tagged Templates\n"
   ]
  },
  {
   "cell_type": "markdown",
   "id": "5cccac52",
   "metadata": {},
   "source": [
    "## Example of Multi-line Strings"
   ]
  },
  {
   "cell_type": "code",
   "execution_count": 41,
   "id": "eef28891",
   "metadata": {
    "vscode": {
     "languageId": "javascript"
    }
   },
   "outputs": [
    {
     "ename": "SyntaxError",
     "evalue": "invalid syntax (3979239522.py, line 1)",
     "output_type": "error",
     "traceback": [
      "  \u001b[36mCell\u001b[39m\u001b[36m \u001b[39m\u001b[32mIn[41]\u001b[39m\u001b[32m, line 1\u001b[39m\n\u001b[31m    \u001b[39m\u001b[31mconst multilineString =\u001b[39m\n          ^\n\u001b[31mSyntaxError\u001b[39m\u001b[31m:\u001b[39m invalid syntax\n"
     ]
    }
   ],
   "source": [
    "const multilineString =\n",
    "```\n",
    "This is an example of a multi-line string.\n",
    "You can write as much as you want here.\n",
    "This is useful for writing paragraphs or long text.\n",
    "```;\n",
    "console.log(multilineString);"
   ]
  },
  {
   "cell_type": "markdown",
   "id": "9ce47c0b",
   "metadata": {},
   "source": [
    "## Example of String Interpolation"
   ]
  },
  {
   "cell_type": "code",
   "execution_count": null,
   "id": "503299dc",
   "metadata": {
    "vscode": {
     "languageId": "javascript"
    }
   },
   "outputs": [],
   "source": [
    "shopButton.innerHTML = `${forSaleItemInfo.emoji} ${forSaleItemInfo.name} (${forSaleItemInfo.price} 🍪)`;"
   ]
  },
  {
   "cell_type": "markdown",
   "id": "b33dac1d",
   "metadata": {},
   "source": [
    "This is a great example of **string interpolation** in the Cookie Clicker Game. It uses the syntax: ${}for the variables emoji, name, and price to be plugged. Template literals allow for variables to be placed inside the string."
   ]
  },
  {
   "cell_type": "code",
   "execution_count": null,
   "id": "bf4753aa",
   "metadata": {
    "vscode": {
     "languageId": "javascript"
    }
   },
   "outputs": [],
   "source": [
    "const Alien = {\n",
    "  name: \"Alien\",\n",
    "  emoji: \"👽\",\n",
    "  price: 50000,\n",
    "  priceIncrementer: 1.3,\n",
    "  cookiesPerSecond: 500,\n",
    "};\n",
    "\n",
    "const SixSevenCookie = {\n",
    "  name: \"67 Cookie\",\n",
    "  emoji: \"🤩\",\n",
    "  price: 67000,\n",
    "  priceIncrementer: 1.5,\n",
    "  cookiesPerSecond: 670,\n",
    "};\n",
    "\n",
    "const DookieCookie = {\n",
    "  name: \"Dookie Cookie\",\n",
    "  emoji: \"💩\",\n",
    "  price: 100000,\n",
    "  priceIncrementer: 1.7,\n",
    "  cookiesPerSecond: 1000,\n",
    "};"
   ]
  },
  {
   "cell_type": "markdown",
   "id": "299dc2dc",
   "metadata": {
    "vscode": {
     "languageId": "raw"
    }
   },
   "source": [
    "In this example, there are **eight** examples of strings: \"Grandma\", \"Chef\", and \"Kitchen\". All three examples are under the variable: \"const\".\n",
    "The other **three** examples, \"👵\", \"👨‍🍳\", and \"🔪\", are examples of strings as emojis. \n",
    "The final **two** examples of strings use the backtick quotes: \n",
    "`bg-slate-500 hover:bg-slate-600 text-white px-4 py-2 mb-2`\n",
    "and\n",
    "`${forSaleItemInfo.emoji} ${forSaleItemInfo.name} (${forSaleItemInfo.price} 🍪)`\n",
    "that store data of the const: shopButton."
   ]
  },
  {
   "cell_type": "markdown",
   "id": "0ce4ef1e",
   "metadata": {
    "vscode": {
     "languageId": "raw"
    }
   },
   "source": [
    "# Counting Strings\n",
    "- Strings have a unique feature of being able to count the number or characters or how long the string is\n",
    "- Use \n"
   ]
  }
 ],
 "metadata": {
  "kernelspec": {
   "display_name": "venv",
   "language": "python",
   "name": "python3"
  },
  "language_info": {
   "codemirror_mode": {
    "name": "ipython",
    "version": 3
   },
   "file_extension": ".py",
   "mimetype": "text/x-python",
   "name": "python",
   "nbconvert_exporter": "python",
   "pygments_lexer": "ipython3",
   "version": "3.13.7"
  }
 },
 "nbformat": 4,
 "nbformat_minor": 5
}
