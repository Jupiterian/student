{
 "cells": [
  {
   "cell_type": "raw",
   "id": "099c4a8b",
   "metadata": {
    "vscode": {
     "languageId": "raw"
    }
   },
   "source": [
    "---\n",
    "layout: base\n",
    "title: Makers - Strings JS Lesson\n",
    "description: Strings lesson (Cookie Clicker)\n",
    "permalink: /Javascript/strings-lesson\n",
    "categories: [Javascript, Strings]\n",
    "author: Makers\n",
    "---"
   ]
  },
  {
   "cell_type": "raw",
   "id": "ce16db93",
   "metadata": {
    "vscode": {
     "languageId": "raw"
    }
   },
   "source": [
    "*Javascript Strings"
   ]
  }
 ],
 "metadata": {
  "language_info": {
   "name": "python"
  }
 },
 "nbformat": 4,
 "nbformat_minor": 5
}
