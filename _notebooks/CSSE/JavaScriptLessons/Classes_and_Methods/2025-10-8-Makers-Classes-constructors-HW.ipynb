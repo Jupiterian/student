{
 "cells": [
  {
   "cell_type": "markdown",
   "id": "677177ac",
   "metadata": {},
   "source": []
  },
  {
   "cell_type": "raw",
   "id": "f46d5103",
   "metadata": {
    "vscode": {
     "languageId": "raw"
    }
   },
   "source": [
    "---\n",
    "layout: post\n",
    "title: Classes and Constructors Homework\n",
    "description:  Classes and Constructors Homework\n",
    "categories: [Javascript, Homework]\n",
    "permalink: /classes-constructors-HW\n",
    "author: Makers\n",
    "---"
   ]
  },
  {
   "cell_type": "markdown",
   "id": "b0f73322",
   "metadata": {},
   "source": [
    "# JavaScript Classes and Constructors Homework\n",
    "By now you should have a decent grasp of classes and constructors, and how to make and build one. The following exercises should help you solidify your understanding of classes and constructors in JavaScript."
   ]
  },
  {
   "cell_type": "markdown",
   "id": "4be7bd0a",
   "metadata": {
    "vscode": {
     "languageId": "javascript"
    }
   },
   "source": [
    "# Popcorn Hack 1\n",
    "1. The class TennisPlayer has been defined for you. Create a constructor with the arguements name, rank, and rankPoints.\n",
    "2. Define a method that ouputs the following to the console: \"Hi my name is <name>, my rank is <rank>, and my rankings points are <rankingsPoints>.\n",
    "3. Call the class with the arguments Novak Djokovic, 1, 16000. \n"
   ]
  },
  {
   "cell_type": "code",
   "execution_count": null,
   "id": "7399ab93",
   "metadata": {
    "vscode": {
     "languageId": "javascript"
    }
   },
   "outputs": [],
   "source": [
    "%%javascript\n",
    " \n",
    "class TennisPlayer {\n",
    "    constructor(name, rank, rankPoints) {\n",
    "        // Add code here\n",
    "    };\n",
    "    profile () {\n",
    "        //Finish this output: console.log();\n",
    "    }\n",
    "\n",
    "};\n"
   ]
  },
  {
   "cell_type": "markdown",
   "id": "847cedc1",
   "metadata": {},
   "source": [
    "# Popcorn Hack 2\n",
    "\n",
    "1. "
   ]
  },
  {
   "cell_type": "markdown",
   "id": "24d1fadb",
   "metadata": {},
   "source": [
    "# Homework\n",
    "Expand your Cookie Clicker project:\n",
    "- Create an `Upgrade` class that multiplies cookies per click.\n",
    "- Modify your `CookieClicker` class constructor to accept an array of `Upgrade`s.\n",
    "- Print how each upgrade changes the total cookie output.\n",
    "\n",
    "The following code is to help you get started."
   ]
  },
  {
   "cell_type": "code",
   "execution_count": null,
   "id": "e9c84d6f",
   "metadata": {
    "vscode": {
     "languageId": "javascript"
    }
   },
   "outputs": [],
   "source": [
    "%%javascript\n",
    "\n",
    "class CookieClicker {\n",
    "  constructor(upgrades = []) {\n",
    "    this.cookies = 0;\n",
    "    this.cookiesPerClick = 1;\n",
    "    this.upgrades = upgrades;\n",
    "\n",
    "    // Apply upgrade bonuses\n",
    "    this.upgrades.forEach(upg => {\n",
    "      this.cookiesPerClick *= upg.multiplier || 1;\n",
    "    });\n",
    "  }\n",
    "\n",
    "  click() {\n",
    "    this.cookies += this.cookiesPerClick;\n",
    "  }\n",
    "}\n",
    "\n",
    "class Upgrade {\n",
    "  constructor(name, multiplier) {\n",
    "    this.name = name;\n",
    "    this.multiplier = multiplier;\n",
    "  }\n",
    "}\n",
    "\n",
    "const upgrades = [\n",
    "  new Upgrade(\"Golden Cursor\", 2),\n",
    "  new Upgrade(\"Magic Oven\", 3)\n",
    "];\n",
    "\n",
    "const game = new CookieClicker(upgrades);\n",
    "game.click();\n",
    "console.log(`Cookies after 1 click: ${game.cookies} (per click: ${game.cookiesPerClick})`);"
   ]
  }
 ],
 "metadata": {
  "kernelspec": {
   "display_name": "venv",
   "language": "python",
   "name": "python3"
  },
  "language_info": {
   "name": "python",
   "version": "3.12.3"
  }
 },
 "nbformat": 4,
 "nbformat_minor": 5
}
