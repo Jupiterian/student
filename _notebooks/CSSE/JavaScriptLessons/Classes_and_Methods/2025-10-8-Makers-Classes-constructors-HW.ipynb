{
 "cells": [
  {
   "cell_type": "markdown",
   "id": "677177ac",
   "metadata": {},
   "source": []
  },
  {
   "cell_type": "raw",
   "id": "f46d5103",
   "metadata": {
    "vscode": {
     "languageId": "raw"
    }
   },
   "source": [
    "---\n",
    "layout: base\n",
    "title: Classes and Constructors Homework\n",
    "description:  Classes and Constructors Homework\n",
    "categories: [Javascript, Homework]\n",
    "permalink: /Javascript/classes-constructors-Homework\n",
    "author: Makers\n",
    "---"
   ]
  },
  {
   "cell_type": "markdown",
   "id": "b0f73322",
   "metadata": {},
   "source": [
    "# JavaScript Classes and Constructors Homework\n",
    "By now you should have a decent grasp of classes and constructors, and how to make and build one. The following exercises should help you solidify your understanding of classes and constructors in JavaScript."
   ]
  }
 ],
 "metadata": {
  "language_info": {
   "name": "python"
  }
 },
 "nbformat": 4,
 "nbformat_minor": 5
}
