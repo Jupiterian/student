{
 "cells": [
  {
   "cell_type": "raw",
   "id": "8098a37c",
   "metadata": {
    "vscode": {
     "languageId": "raw"
    }
   },
   "source": [
    "---\n",
    "layout: base\n",
    "title: Makers - Classes and Constructors JS Lesson\n",
    "description: Classes and Constructors lesson with Cookie Clicker\n",
    "permalink: /Javascript/classes-constructors-lesson\n",
    "categories: [Javascript]\n",
    "author: Makers\n",
    "---"
   ]
  }
 ],
 "metadata": {
  "language_info": {
   "name": "python"
  }
 },
 "nbformat": 4,
 "nbformat_minor": 5
}
